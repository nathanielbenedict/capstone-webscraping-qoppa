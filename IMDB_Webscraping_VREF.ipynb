{
 "cells": [
  {
   "cell_type": "markdown",
   "id": "b9be974f",
   "metadata": {},
   "source": [
    "# What is Web Scraping? \n",
    "\n",
    "Let’s say, `data is vital` for your company. You are able to see the data on your competitor’s website. The question is how will you download it in a usable format? Most people would be able to only copy and paste it manually. However, it is not feasible to do it for large websites with hundreds of pages. This is where web scraping comes into play.\n",
    "\n",
    "`Web scraping` is the process of gathering information from the Internet. Even copying and pasting the lyrics of your favorite song is a form of web scraping! However, the words “web scraping” usually refer to a process that involves automation. Some websites don’t like it when automatic scrapers gather their data, while others don’t mind.\n",
    "\n",
    "If you’re scraping a page respectfully for educational purposes, then you’re unlikely to have any problems. Still, it’s a good idea to do some research on your own and make sure that `you’re not violating any Terms of Service` before you start a large-scale project."
   ]
  },
  {
   "cell_type": "markdown",
   "id": "25cddba5",
   "metadata": {},
   "source": [
    "# Web Scraping with Beautiful Soup\n",
    "\n",
    "Many of your coding projects may require you to pull a bunch of information from an HTML or XML page. This task can be really tedious and boring, that is until you learn how to scrape the web with an HTML Parser! That’s where Beautiful Soup comes in. This Python package allows you to parse HTML and XML pages with ease and pull all sorts of data off the web.\n",
    "\n",
    "Beautiful Soup is a Python library for pulling data out of HTML and XML files. Beautiful Soup 3 only works on Python 2.x, but Beautiful Soup 4 also works on Python 3.x. Beautiful Soup 4 is faster, has more features, and works with third-party parsers like lxml and html5lib.\n",
    "\n",
    "Since beautifulsoup used to pull the data out of a HTML, so first we need to pull out the html first. How we do it? We will use default library request.\n",
    "\n",
    "So all this code is doing is sending a GET request to spesific address we give. This is the same type of request your browser sent to view this page, but the only difference is that Requests can't actually render the HTML, so instead you will just get the raw HTML and the other response information."
   ]
  },
  {
   "cell_type": "markdown",
   "id": "29c9d9f2",
   "metadata": {},
   "source": [
    "# Project : IMDB Most Popular Movies in 2021 \n",
    "\n",
    "At this project we try to scrap `IMDB most popular movies in 2021` from [IMDB website](https://www.imdb.com/search/title/?release_date=2021-01-01,2021-12-31). IMDB (Internet Movie Database) is a huge hub of entertainment information. It is the largest, most comprehensive movie database on the web. It offers an extensive database of movie, TV show, and cast information. The site was officially launched in 1990 and is now owned by Amazon.com. `We will try to scrap this sites for educational purpose only.`"
   ]
  },
  {
   "cell_type": "markdown",
   "id": "fda81913",
   "metadata": {},
   "source": [
    "### Assignment\n",
    "\n",
    "Let's say we are in online streaming service business that allows our members to watch TV shows and movies with the most updated content. To serve our loyal customers, we need to consistently bring in new content to our platform. In this case, we need to analyze what movies that worth to be place in our platform, so in the next step we can contact the production house to make a business deal to bring in the movies for our customers. We will analyze the data that we need from this [IMDB website](https://www.imdb.com/search/title/?release_date=2021-01-01,2021-12-31)\n",
    "\n",
    "**A. Scrap these data to perform the analysis :**\n",
    "1. Movie Titles\n",
    "2. IMDB Rating\n",
    "3. Metascore\n",
    "4. Votes\n",
    "\n",
    "**B. Make a plot of the 7 most popular films of 2021**"
   ]
  },
  {
   "cell_type": "markdown",
   "id": "4a6bab50",
   "metadata": {},
   "source": [
    "### Importing Requirements\n",
    "\n",
    "Before scraping the website, we need to set up our environment and importing requirements that we need to perform further process :\n",
    "\n",
    "1. `Set up an empty environment`\n",
    "```\n",
    "conda create -n <ENV_NAME> python=<PYTHON_VERSION>\n",
    "```\n",
    "\n",
    "2. `Activate the environment`\n",
    "```\n",
    "conda activate <ENV_NAME>\n",
    "```\n",
    "\n",
    "3. `Navigate path to folder where the file requirements.txt is located,\n",
    "    You will get the requirements.txt file in the attached folder.`\n",
    "```\n",
    "cd <PATH_TO_REQUIREMENTS>\n",
    "```\n",
    "\n",
    "4. `Install packages from the file`\n",
    "```\n",
    "pip install -r requirements.txt\n",
    "```\n",
    "```\n",
    "\n",
    "`⚠️ Don't forget to install the kernel in that environment if you want it to be accessible using a jupyter notebook`\n",
    "```\n",
    "pip install ipykernel\n",
    "python -m ipykernel install --user --name=<ENV_NAME>\n",
    "```\n"
   ]
  },
  {
   "cell_type": "markdown",
   "id": "28f691e2",
   "metadata": {},
   "source": [
    "### Requests\n",
    "\n",
    "In order to get the HTML of the website, we need to make a request to get the content of the webpage. Python has a `request` library to get the content. First, we need to import the library and then make a `get()` request to the URL containing the targeted website  "
   ]
  },
  {
   "cell_type": "code",
   "execution_count": 1,
   "id": "dad5f9a2",
   "metadata": {},
   "outputs": [],
   "source": [
    "import requests\n",
    "url = 'https://www.imdb.com/search/title/?release_date=2021-01-01,2021-12-31'\n",
    "response = requests.get(url)"
   ]
  },
  {
   "cell_type": "code",
   "execution_count": 2,
   "id": "4f07bf1d",
   "metadata": {
    "scrolled": true
   },
   "outputs": [
    {
     "data": {
      "text/plain": [
       "<Response [200]>"
      ]
     },
     "execution_count": 2,
     "metadata": {},
     "output_type": "execute_result"
    }
   ],
   "source": [
    "#Check response\n",
    "response"
   ]
  },
  {
   "cell_type": "markdown",
   "id": "9531ce67",
   "metadata": {},
   "source": [
    "The HTTP 200 OK success status response code indicates that the request has succeeded. A 200 response is cacheable by default"
   ]
  },
  {
   "cell_type": "markdown",
   "id": "e5deb8a2",
   "metadata": {},
   "source": [
    "To visualize what exactly you get from the request.get, we can use `.content`. In here we slice it so it won't make our screen full of the html we get from the page. You can delete the slicing if you want to see what we fully get."
   ]
  },
  {
   "cell_type": "code",
   "execution_count": 3,
   "id": "677cbf3b",
   "metadata": {
    "scrolled": true
   },
   "outputs": [
    {
     "data": {
      "text/plain": [
       "b'\\n\\n<!DOCTYPE html>\\n<html\\n    xmlns:og=\"http://ogp.me/ns#\"\\n    xmlns:fb=\"http://www.facebook.com/2008/fbml\">\\n    <head>\\n         \\n\\n        <meta charset=\"utf-8\">\\n        <meta http-equiv=\"X-UA-Compatible\" content=\"IE=edge\">\\n\\n\\n\\n\\n        <script type=\"text/javascript\">var IMDbTimer={starttime: new Date().getTime(),pt:\\'java\\'};</script>\\n\\n<script>\\n    if (typeof uet == \\'function\\') {\\n      uet(\"bb\", \"LoadTitle\", {wb: 1});\\n    }\\n</script>\\n  <script>(function(t){ (t.events = t.events || {})[\"csm_head_pre_'"
      ]
     },
     "execution_count": 3,
     "metadata": {},
     "output_type": "execute_result"
    }
   ],
   "source": [
    "response.content[0:500]"
   ]
  },
  {
   "cell_type": "markdown",
   "id": "2fa30b8f",
   "metadata": {},
   "source": [
    "As we can see we get a very unstructured and complex html, which actually contains the codes needed to show the webpages on your web browser. But we as human still confused what and where we can use that piece of code, so here where we use the beautifulsoup. We can import it by using the line : "
   ]
  },
  {
   "cell_type": "code",
   "execution_count": 4,
   "id": "9dfec618",
   "metadata": {},
   "outputs": [],
   "source": [
    "from bs4 import BeautifulSoup "
   ]
  },
  {
   "cell_type": "markdown",
   "id": "07c4eb15",
   "metadata": {},
   "source": [
    "Then, all we have to do is convert the HTML document to a BeautifulSoup object! There are other options of parser but for our case we will be using `'html.parser'`. Beautiful soup class will result a beautifulsoup object. Beautiful Soup transforms a complex HTML document into a complex tree of Python objects."
   ]
  },
  {
   "cell_type": "code",
   "execution_count": 5,
   "id": "8b8a31a8",
   "metadata": {
    "scrolled": true
   },
   "outputs": [
    {
     "name": "stdout",
     "output_type": "stream",
     "text": [
      "<!DOCTYPE html>\n",
      "<html xmlns:fb=\"http://www.facebook.com/2008/fbml\" xmlns:og=\"http://ogp.me/ns#\">\n",
      " <head>\n",
      "  <meta charset=\"utf-8\"/>\n",
      "  <meta content=\"IE=edge\" http-equiv=\"X-UA-Compatible\"/>\n",
      "  <script type=\"text/javascript\">\n",
      "   var IMDbTimer={starttime: new Date().getTime(),pt:'java'};\n",
      "  </script>\n",
      "  <script>\n",
      "   if (typeof uet == 'function') {\n",
      "      uet(\"bb\", \"LoadTitle\", {wb: 1});\n",
      "    }\n",
      "  </script>\n",
      "  <script>\n",
      "   (function(t){ (t.events = t.events || {})[\"csm_head_pre_title\"] = new Date().getTime();\n"
     ]
    }
   ],
   "source": [
    "soup = BeautifulSoup(response.content, 'html.parser')\n",
    "print(soup.prettify()[:500])"
   ]
  },
  {
   "cell_type": "markdown",
   "id": "c48bbfc5",
   "metadata": {},
   "source": [
    "### Finding the right key to scrap the data & Extracting the right information"
   ]
  },
  {
   "cell_type": "markdown",
   "id": "4c2e4384",
   "metadata": {},
   "source": [
    "To store the data we need to build some variable that contain empty `list` "
   ]
  },
  {
   "cell_type": "code",
   "execution_count": 6,
   "id": "c293ca18",
   "metadata": {},
   "outputs": [],
   "source": [
    "movie_name = []\n",
    "#year = [] -> not included\n",
    "time = [] \n",
    "rating = []\n",
    "metascore = []\n",
    "votes = []"
   ]
  },
  {
   "cell_type": "markdown",
   "id": "c8fa35a1",
   "metadata": {},
   "source": [
    "Now we need to find the data that we want to scrap\n",
    "1. Go to the [IMDB Website](https://www.imdb.com/search/title/?release_date=2021-01-01,2021-12-31) and perform inspect element\n",
    "2. Using the inspect element, we found that all the data that we need are stored in \n",
    "`<div class=\"lister-item mode-advanced\">`"
   ]
  },
  {
   "cell_type": "markdown",
   "id": "e07ce6c8",
   "metadata": {},
   "source": [
    "If we want to find all of the occurrences of a tag, instead of just the first one, we can use `.find_all()`. This function can take in just the name of a tag and returns a list of all occurrences of that tag. With `.find_all()`, we can use regexes, attributes, or even functions to select HTML elements more intelligently. We can pass a dictionary to the `attrs` parameter of `find_all` with the desired attributes of the elements we’re looking for"
   ]
  },
  {
   "cell_type": "code",
   "execution_count": 7,
   "id": "ab2bafd5",
   "metadata": {},
   "outputs": [],
   "source": [
    "movie_data = soup.find_all('div', attrs = {'class':'lister-item mode-advanced'})"
   ]
  },
  {
   "cell_type": "code",
   "execution_count": 8,
   "id": "8d2cbbc7",
   "metadata": {},
   "outputs": [],
   "source": [
    "for store in movie_data:\n",
    "    #get movie name\n",
    "    name = store.h3.a.text\n",
    "    movie_name.append(name)\n",
    "    \n",
    "    #get year of release\n",
    "    #year_of_release = store.h3.find('span', class_= 'lister-item-year text-muted unbold').text.replace('(','').replace(')','')\n",
    "    #year.append(year_of_release)\n",
    "    \n",
    "    #get movie duration\n",
    "    runtime = store.p.find('span', class_= 'runtime').text.replace(' min', '') if store.p.find('span', class_= 'runtime') else '0'\n",
    "    time.append(runtime)\n",
    "    \n",
    "    #get movie rating\n",
    "    rate = store.find('div', class_= 'inline-block ratings-imdb-rating').text.replace('\\n', '')\n",
    "    rating.append(rate)\n",
    "    \n",
    "    #get metascore\n",
    "    meta = store.find('span', class_= 'metascore').text if store.find('span', class_= 'metascore') else '0'\n",
    "    metascore.append(meta)\n",
    "    \n",
    "    #get total votes\n",
    "    total_votes = store.find('span', attrs = {'name': 'nv'}).text\n",
    "    votes.append(total_votes)"
   ]
  },
  {
   "cell_type": "markdown",
   "id": "688b53b7",
   "metadata": {},
   "source": [
    "Using `numpy` to make sure the looping result is as expected and not duplicated. While busy writing the code, sometimes you can unconsciously forget that you keep re-run the loop and as a result, the empty list is continuously filled with your re-run loop. In case that you forget and make all the data appended, don't panic. You can just open  the `Kernel` tab above and choose restart & run all."
   ]
  },
  {
   "cell_type": "code",
   "execution_count": 9,
   "id": "f5af2ac2",
   "metadata": {},
   "outputs": [],
   "source": [
    "import numpy as np"
   ]
  },
  {
   "cell_type": "code",
   "execution_count": 10,
   "id": "30ccd58c",
   "metadata": {
    "scrolled": true
   },
   "outputs": [
    {
     "data": {
      "text/plain": [
       "50"
      ]
     },
     "execution_count": 10,
     "metadata": {},
     "output_type": "execute_result"
    }
   ],
   "source": [
    "np.count_nonzero(movie_name)"
   ]
  },
  {
   "cell_type": "markdown",
   "id": "8bee72d4",
   "metadata": {},
   "source": [
    "### Creating data frame & Data wrangling\n",
    "\n",
    "When we use BeautifulSoup in combination with `pandas`, we can turn websites into DataFrames that are easy to manipulate and gain insights from. We will also need `matplotlib` and `seaborn` to help us visualize the data later"
   ]
  },
  {
   "cell_type": "code",
   "execution_count": 11,
   "id": "987768ae",
   "metadata": {},
   "outputs": [],
   "source": [
    "import pandas as pd\n",
    "import matplotlib.pyplot as plt\n",
    "import seaborn as sns "
   ]
  },
  {
   "cell_type": "code",
   "execution_count": 12,
   "id": "6dd71b60",
   "metadata": {},
   "outputs": [],
   "source": [
    "imdb = pd.DataFrame({'Movie Title' : movie_name, 'Duration': time, 'Movie Rating': rating, 'Metascore': metascore, 'Total Votes': votes})"
   ]
  },
  {
   "cell_type": "markdown",
   "id": "b84b9916",
   "metadata": {},
   "source": [
    "Let's do a bit cleaning so we can do a bit of visualisation. We need to change the \",\" to \" \" first. To do this we can use the help of `str.replace()`. Then lastly let's fix all of our data type."
   ]
  },
  {
   "cell_type": "code",
   "execution_count": 13,
   "id": "16258957",
   "metadata": {},
   "outputs": [],
   "source": [
    "imdb['Total Votes'] = imdb['Total Votes'].str.replace(',','')"
   ]
  },
  {
   "cell_type": "code",
   "execution_count": 14,
   "id": "b4ae3edf",
   "metadata": {},
   "outputs": [],
   "source": [
    "imdb['Duration'] = imdb['Duration'].astype('int64')\n",
    "imdb['Movie Rating'] = imdb['Movie Rating'].astype('float64')\n",
    "imdb['Metascore'] = imdb['Metascore'].astype('int64')\n",
    "imdb['Total Votes'] = imdb['Total Votes'].astype('int64')"
   ]
  },
  {
   "cell_type": "code",
   "execution_count": 15,
   "id": "3bc703e6",
   "metadata": {
    "scrolled": false
   },
   "outputs": [
    {
     "data": {
      "text/plain": [
       "Movie Title      object\n",
       "Duration          int64\n",
       "Movie Rating    float64\n",
       "Metascore         int64\n",
       "Total Votes       int64\n",
       "dtype: object"
      ]
     },
     "execution_count": 15,
     "metadata": {},
     "output_type": "execute_result"
    }
   ],
   "source": [
    "imdb.dtypes"
   ]
  },
  {
   "cell_type": "markdown",
   "id": "627638d6",
   "metadata": {},
   "source": [
    "Make sure there is no empty and duplicated data in your dataset"
   ]
  },
  {
   "cell_type": "code",
   "execution_count": 16,
   "id": "48e73429",
   "metadata": {},
   "outputs": [
    {
     "data": {
      "text/plain": [
       "Movie Title     0\n",
       "Duration        0\n",
       "Movie Rating    0\n",
       "Metascore       0\n",
       "Total Votes     0\n",
       "dtype: int64"
      ]
     },
     "execution_count": 16,
     "metadata": {},
     "output_type": "execute_result"
    }
   ],
   "source": [
    "imdb.isnull().sum()"
   ]
  },
  {
   "cell_type": "code",
   "execution_count": 17,
   "id": "c1d0320e",
   "metadata": {
    "scrolled": true
   },
   "outputs": [
    {
     "data": {
      "text/plain": [
       "False"
      ]
     },
     "execution_count": 17,
     "metadata": {},
     "output_type": "execute_result"
    }
   ],
   "source": [
    "imdb.duplicated().any()"
   ]
  },
  {
   "cell_type": "code",
   "execution_count": 18,
   "id": "78998727",
   "metadata": {
    "scrolled": true
   },
   "outputs": [
    {
     "data": {
      "text/html": [
       "<div>\n",
       "<style scoped>\n",
       "    .dataframe tbody tr th:only-of-type {\n",
       "        vertical-align: middle;\n",
       "    }\n",
       "\n",
       "    .dataframe tbody tr th {\n",
       "        vertical-align: top;\n",
       "    }\n",
       "\n",
       "    .dataframe thead th {\n",
       "        text-align: right;\n",
       "    }\n",
       "</style>\n",
       "<table border=\"1\" class=\"dataframe\">\n",
       "  <thead>\n",
       "    <tr style=\"text-align: right;\">\n",
       "      <th></th>\n",
       "      <th>Movie Title</th>\n",
       "      <th>Duration</th>\n",
       "      <th>Movie Rating</th>\n",
       "      <th>Metascore</th>\n",
       "      <th>Total Votes</th>\n",
       "    </tr>\n",
       "  </thead>\n",
       "  <tbody>\n",
       "    <tr>\n",
       "      <th>0</th>\n",
       "      <td>Don't Look Up</td>\n",
       "      <td>138</td>\n",
       "      <td>7.3</td>\n",
       "      <td>50</td>\n",
       "      <td>288507</td>\n",
       "    </tr>\n",
       "    <tr>\n",
       "      <th>1</th>\n",
       "      <td>Spider-Man: No Way Home</td>\n",
       "      <td>148</td>\n",
       "      <td>8.8</td>\n",
       "      <td>71</td>\n",
       "      <td>356532</td>\n",
       "    </tr>\n",
       "    <tr>\n",
       "      <th>2</th>\n",
       "      <td>The Matrix Resurrections</td>\n",
       "      <td>148</td>\n",
       "      <td>5.7</td>\n",
       "      <td>63</td>\n",
       "      <td>142757</td>\n",
       "    </tr>\n",
       "    <tr>\n",
       "      <th>3</th>\n",
       "      <td>Encanto</td>\n",
       "      <td>102</td>\n",
       "      <td>7.3</td>\n",
       "      <td>76</td>\n",
       "      <td>69143</td>\n",
       "    </tr>\n",
       "    <tr>\n",
       "      <th>4</th>\n",
       "      <td>The Book of Boba Fett</td>\n",
       "      <td>38</td>\n",
       "      <td>8.1</td>\n",
       "      <td>0</td>\n",
       "      <td>14526</td>\n",
       "    </tr>\n",
       "  </tbody>\n",
       "</table>\n",
       "</div>"
      ],
      "text/plain": [
       "                Movie Title  Duration  Movie Rating  Metascore  Total Votes\n",
       "0             Don't Look Up       138           7.3         50       288507\n",
       "1   Spider-Man: No Way Home       148           8.8         71       356532\n",
       "2  The Matrix Resurrections       148           5.7         63       142757\n",
       "3                   Encanto       102           7.3         76        69143\n",
       "4     The Book of Boba Fett        38           8.1          0        14526"
      ]
     },
     "execution_count": 18,
     "metadata": {},
     "output_type": "execute_result"
    }
   ],
   "source": [
    "imdb.head(5)"
   ]
  },
  {
   "cell_type": "markdown",
   "id": "bfe8f64f",
   "metadata": {},
   "source": [
    "We need to make a plot of the 7 most popular films of 2021, therefore we can simply use `.head(7)` to collect the top 7 most popular films. The IMDB website already sorted the most popular films, so our result is automatically already turns out as expected without any further modification."
   ]
  },
  {
   "cell_type": "code",
   "execution_count": 19,
   "id": "efa9ace6",
   "metadata": {
    "scrolled": false
   },
   "outputs": [
    {
     "data": {
      "text/html": [
       "<div>\n",
       "<style scoped>\n",
       "    .dataframe tbody tr th:only-of-type {\n",
       "        vertical-align: middle;\n",
       "    }\n",
       "\n",
       "    .dataframe tbody tr th {\n",
       "        vertical-align: top;\n",
       "    }\n",
       "\n",
       "    .dataframe thead th {\n",
       "        text-align: right;\n",
       "    }\n",
       "</style>\n",
       "<table border=\"1\" class=\"dataframe\">\n",
       "  <thead>\n",
       "    <tr style=\"text-align: right;\">\n",
       "      <th></th>\n",
       "      <th>Duration</th>\n",
       "      <th>Movie Rating</th>\n",
       "      <th>Metascore</th>\n",
       "      <th>Total Votes</th>\n",
       "    </tr>\n",
       "    <tr>\n",
       "      <th>Movie Title</th>\n",
       "      <th></th>\n",
       "      <th></th>\n",
       "      <th></th>\n",
       "      <th></th>\n",
       "    </tr>\n",
       "  </thead>\n",
       "  <tbody>\n",
       "    <tr>\n",
       "      <th>Don't Look Up</th>\n",
       "      <td>138</td>\n",
       "      <td>7.3</td>\n",
       "      <td>50</td>\n",
       "      <td>288507</td>\n",
       "    </tr>\n",
       "    <tr>\n",
       "      <th>Spider-Man: No Way Home</th>\n",
       "      <td>148</td>\n",
       "      <td>8.8</td>\n",
       "      <td>71</td>\n",
       "      <td>356532</td>\n",
       "    </tr>\n",
       "    <tr>\n",
       "      <th>The Matrix Resurrections</th>\n",
       "      <td>148</td>\n",
       "      <td>5.7</td>\n",
       "      <td>63</td>\n",
       "      <td>142757</td>\n",
       "    </tr>\n",
       "    <tr>\n",
       "      <th>Encanto</th>\n",
       "      <td>102</td>\n",
       "      <td>7.3</td>\n",
       "      <td>76</td>\n",
       "      <td>69143</td>\n",
       "    </tr>\n",
       "    <tr>\n",
       "      <th>The Book of Boba Fett</th>\n",
       "      <td>38</td>\n",
       "      <td>8.1</td>\n",
       "      <td>0</td>\n",
       "      <td>14526</td>\n",
       "    </tr>\n",
       "    <tr>\n",
       "      <th>1883</th>\n",
       "      <td>60</td>\n",
       "      <td>9.1</td>\n",
       "      <td>0</td>\n",
       "      <td>12309</td>\n",
       "    </tr>\n",
       "    <tr>\n",
       "      <th>The Wheel of Time</th>\n",
       "      <td>60</td>\n",
       "      <td>7.3</td>\n",
       "      <td>0</td>\n",
       "      <td>71467</td>\n",
       "    </tr>\n",
       "  </tbody>\n",
       "</table>\n",
       "</div>"
      ],
      "text/plain": [
       "                          Duration  Movie Rating  Metascore  Total Votes\n",
       "Movie Title                                                             \n",
       "Don't Look Up                  138           7.3         50       288507\n",
       "Spider-Man: No Way Home        148           8.8         71       356532\n",
       "The Matrix Resurrections       148           5.7         63       142757\n",
       "Encanto                        102           7.3         76        69143\n",
       "The Book of Boba Fett           38           8.1          0        14526\n",
       "1883                            60           9.1          0        12309\n",
       "The Wheel of Time               60           7.3          0        71467"
      ]
     },
     "execution_count": 19,
     "metadata": {},
     "output_type": "execute_result"
    }
   ],
   "source": [
    "top7_popularity = imdb.head(7).set_index('Movie Title')\n",
    "top7_popularity "
   ]
  },
  {
   "cell_type": "code",
   "execution_count": 20,
   "id": "7dfce186",
   "metadata": {
    "scrolled": false
   },
   "outputs": [
    {
     "data": {
      "image/png": "[encoded data removed]",
      "text/plain": [
       "<Figure size 432x288 with 1 Axes>"
      ]
     },
     "metadata": {
      "needs_background": "light"
     },
     "output_type": "display_data"
    }
   ],
   "source": [
    "top7_popularity['Movie Rating'].plot(kind = 'bar');"
   ]
  },
  {
   "cell_type": "markdown",
   "id": "84e6d372",
   "metadata": {},
   "source": [
    "`How to read the graph : (x axis = left -> right | most popular -> least popular)`\n",
    "\n",
    "The graph above shows that Movie Popularity and Movie Rating do not affect each other. There are several least popular movies like \"1883, The book of Boba Fett, Spider-Man No Way Home\" that have a higher rating than \"Don't Look Up\" as the most popular movies. There is also a lower rating movie that more popular than the higher rating one. "
   ]
  },
  {
   "cell_type": "code",
   "execution_count": 21,
   "id": "c70a57c2",
   "metadata": {},
   "outputs": [
    {
     "data": {
      "image/png": "[encoded data removed]",
      "text/plain": [
       "<Figure size 432x288 with 1 Axes>"
      ]
     },
     "metadata": {
      "needs_background": "light"
     },
     "output_type": "display_data"
    }
   ],
   "source": [
    "top7_popularity['Total Votes'].plot(kind = 'bar');"
   ]
  },
  {
   "cell_type": "markdown",
   "id": "b6c10e87",
   "metadata": {},
   "source": [
    "`How to read the graph : (x axis = left -> right | most popular -> least popular)`\n",
    "\n",
    "The graph above shows that Movie Popularity and Total Votes do not affect each other. "
   ]
  },
  {
   "cell_type": "code",
   "execution_count": 22,
   "id": "aa87e2d5",
   "metadata": {},
   "outputs": [
    {
     "data": {
      "image/png": "[encoded data removed]",
      "text/plain": [
       "<Figure size 432x288 with 1 Axes>"
      ]
     },
     "metadata": {
      "needs_background": "light"
     },
     "output_type": "display_data"
    }
   ],
   "source": [
    "top7_popularity['Metascore'].plot(kind = 'bar');"
   ]
  },
  {
   "cell_type": "markdown",
   "id": "cce6cda9",
   "metadata": {},
   "source": [
    "`How to read the graph : (x axis = left -> right | most popular -> least popular)`\n",
    "\n",
    "The graph above shows that Movie Popularity and Metascore do not affect each other. "
   ]
  },
  {
   "cell_type": "code",
   "execution_count": 23,
   "id": "b2a8b0d4",
   "metadata": {},
   "outputs": [
    {
     "data": {
      "image/png": "[encoded data removed]",
      "text/plain": [
       "<Figure size 432x288 with 1 Axes>"
      ]
     },
     "metadata": {
      "needs_background": "light"
     },
     "output_type": "display_data"
    }
   ],
   "source": [
    "top7_popularity['Duration'].plot(kind = 'bar');"
   ]
  },
  {
   "cell_type": "markdown",
   "id": "177112e5",
   "metadata": {},
   "source": [
    "`How to read the graph : (x axis = left -> right | most popular -> least popular)`\n",
    "\n",
    "The graph above shows that Movie Popularity and Movie Duration (in minutes) do not affect each other. "
   ]
  },
  {
   "cell_type": "code",
   "execution_count": 24,
   "id": "000863a7",
   "metadata": {},
   "outputs": [
    {
     "data": {
      "image/png": "[encoded data removed]",
      "text/plain": [
       "<Figure size 432x288 with 1 Axes>"
      ]
     },
     "metadata": {
      "needs_background": "light"
     },
     "output_type": "display_data"
    }
   ],
   "source": [
    "sns.barplot (x = 'Total Votes', y = 'Movie Rating', data=top7_popularity, hue = top7_popularity.index, dodge = False);\n",
    "plt.legend(bbox_to_anchor = (1.05,1), loc=2);"
   ]
  },
  {
   "cell_type": "markdown",
   "id": "0f78a110",
   "metadata": {},
   "source": [
    "The graph above shows that Total Votes and Movie Rating have little to no relationship with each other. There are several lower Votes with higher Movie Rating and vice versa."
   ]
  },
  {
   "cell_type": "code",
   "execution_count": 25,
   "id": "ba672ee0",
   "metadata": {},
   "outputs": [
    {
     "data": {
      "image/png": "[encoded data removed]",
      "text/plain": [
       "<Figure size 432x288 with 1 Axes>"
      ]
     },
     "metadata": {
      "needs_background": "light"
     },
     "output_type": "display_data"
    }
   ],
   "source": [
    "sns.barplot (x = 'Duration', y = 'Movie Rating', data=top7_popularity);"
   ]
  },
  {
   "cell_type": "markdown",
   "id": "79a95eec",
   "metadata": {},
   "source": [
    "The graph above shows that Movie Duration and Movie Rating have little to no relationship with each other. "
   ]
  },
  {
   "cell_type": "markdown",
   "id": "9ff06688",
   "metadata": {},
   "source": [
    "After we try to find some relationships between parameters in the 7 most popular movies in 2021, out of curiosity we want to take a look at other categories outside of the 7 most popular movies. "
   ]
  },
  {
   "cell_type": "code",
   "execution_count": 26,
   "id": "d5f1aef4",
   "metadata": {
    "scrolled": true
   },
   "outputs": [
    {
     "data": {
      "text/html": [
       "<div>\n",
       "<style scoped>\n",
       "    .dataframe tbody tr th:only-of-type {\n",
       "        vertical-align: middle;\n",
       "    }\n",
       "\n",
       "    .dataframe tbody tr th {\n",
       "        vertical-align: top;\n",
       "    }\n",
       "\n",
       "    .dataframe thead th {\n",
       "        text-align: right;\n",
       "    }\n",
       "</style>\n",
       "<table border=\"1\" class=\"dataframe\">\n",
       "  <thead>\n",
       "    <tr style=\"text-align: right;\">\n",
       "      <th></th>\n",
       "      <th>Duration</th>\n",
       "    </tr>\n",
       "    <tr>\n",
       "      <th>Movie Title</th>\n",
       "      <th></th>\n",
       "    </tr>\n",
       "  </thead>\n",
       "  <tbody>\n",
       "    <tr>\n",
       "      <th>Stay Close</th>\n",
       "      <td>375</td>\n",
       "    </tr>\n",
       "    <tr>\n",
       "      <th>Landscapers</th>\n",
       "      <td>193</td>\n",
       "    </tr>\n",
       "    <tr>\n",
       "      <th>Pushpa: The Rise - Part 1</th>\n",
       "      <td>179</td>\n",
       "    </tr>\n",
       "    <tr>\n",
       "      <th>No Time to Die</th>\n",
       "      <td>163</td>\n",
       "    </tr>\n",
       "    <tr>\n",
       "      <th>83</th>\n",
       "      <td>162</td>\n",
       "    </tr>\n",
       "    <tr>\n",
       "      <th>Minnal Murali</th>\n",
       "      <td>158</td>\n",
       "    </tr>\n",
       "    <tr>\n",
       "      <th>House of Gucci</th>\n",
       "      <td>158</td>\n",
       "    </tr>\n",
       "  </tbody>\n",
       "</table>\n",
       "</div>"
      ],
      "text/plain": [
       "                           Duration\n",
       "Movie Title                        \n",
       "Stay Close                      375\n",
       "Landscapers                     193\n",
       "Pushpa: The Rise - Part 1       179\n",
       "No Time to Die                  163\n",
       "83                              162\n",
       "Minnal Murali                   158\n",
       "House of Gucci                  158"
      ]
     },
     "execution_count": 26,
     "metadata": {},
     "output_type": "execute_result"
    }
   ],
   "source": [
    "top7_duration = imdb.nlargest(7, 'Duration')[['Movie Title', 'Duration']].set_index('Movie Title')\n",
    "top7_duration"
   ]
  },
  {
   "cell_type": "code",
   "execution_count": 27,
   "id": "a106a6f1",
   "metadata": {},
   "outputs": [
    {
     "data": {
      "image/png": "[encoded data removed]",
      "text/plain": [
       "<Figure size 432x288 with 1 Axes>"
      ]
     },
     "metadata": {
      "needs_background": "light"
     },
     "output_type": "display_data"
    }
   ],
   "source": [
    "sns.barplot (x = 'Duration', y = top7_duration.index, data=top7_duration);\n",
    "plt.title(\"Top 7 Longest Movie Watchtime\");"
   ]
  },
  {
   "cell_type": "code",
   "execution_count": 28,
   "id": "394db1bc",
   "metadata": {},
   "outputs": [
    {
     "data": {
      "text/html": [
       "<div>\n",
       "<style scoped>\n",
       "    .dataframe tbody tr th:only-of-type {\n",
       "        vertical-align: middle;\n",
       "    }\n",
       "\n",
       "    .dataframe tbody tr th {\n",
       "        vertical-align: top;\n",
       "    }\n",
       "\n",
       "    .dataframe thead th {\n",
       "        text-align: right;\n",
       "    }\n",
       "</style>\n",
       "<table border=\"1\" class=\"dataframe\">\n",
       "  <thead>\n",
       "    <tr style=\"text-align: right;\">\n",
       "      <th></th>\n",
       "      <th>Movie Rating</th>\n",
       "      <th>Total Votes</th>\n",
       "    </tr>\n",
       "    <tr>\n",
       "      <th>Movie Title</th>\n",
       "      <th></th>\n",
       "      <th></th>\n",
       "    </tr>\n",
       "  </thead>\n",
       "  <tbody>\n",
       "    <tr>\n",
       "      <th>Arcane: League of Legends</th>\n",
       "      <td>9.2</td>\n",
       "      <td>127081</td>\n",
       "    </tr>\n",
       "    <tr>\n",
       "      <th>1883</th>\n",
       "      <td>9.1</td>\n",
       "      <td>12309</td>\n",
       "    </tr>\n",
       "    <tr>\n",
       "      <th>Dexter: New Blood</th>\n",
       "      <td>8.9</td>\n",
       "      <td>39420</td>\n",
       "    </tr>\n",
       "    <tr>\n",
       "      <th>Spider-Man: No Way Home</th>\n",
       "      <td>8.8</td>\n",
       "      <td>356532</td>\n",
       "    </tr>\n",
       "    <tr>\n",
       "      <th>Dopesick</th>\n",
       "      <td>8.7</td>\n",
       "      <td>28147</td>\n",
       "    </tr>\n",
       "    <tr>\n",
       "      <th>Minnal Murali</th>\n",
       "      <td>8.3</td>\n",
       "      <td>18243</td>\n",
       "    </tr>\n",
       "    <tr>\n",
       "      <th>Dune: Part One</th>\n",
       "      <td>8.2</td>\n",
       "      <td>430052</td>\n",
       "    </tr>\n",
       "  </tbody>\n",
       "</table>\n",
       "</div>"
      ],
      "text/plain": [
       "                           Movie Rating  Total Votes\n",
       "Movie Title                                         \n",
       "Arcane: League of Legends           9.2       127081\n",
       "1883                                9.1        12309\n",
       "Dexter: New Blood                   8.9        39420\n",
       "Spider-Man: No Way Home             8.8       356532\n",
       "Dopesick                            8.7        28147\n",
       "Minnal Murali                       8.3        18243\n",
       "Dune: Part One                      8.2       430052"
      ]
     },
     "execution_count": 28,
     "metadata": {},
     "output_type": "execute_result"
    }
   ],
   "source": [
    "top7_rating = imdb.nlargest(7, 'Movie Rating')[['Movie Title','Movie Rating', 'Total Votes']].set_index('Movie Title')\n",
    "top7_rating"
   ]
  },
  {
   "cell_type": "code",
   "execution_count": 29,
   "id": "4a93675b",
   "metadata": {},
   "outputs": [
    {
     "data": {
      "image/png": "[encoded data removed]",
      "text/plain": [
       "<Figure size 432x288 with 1 Axes>"
      ]
     },
     "metadata": {
      "needs_background": "light"
     },
     "output_type": "display_data"
    }
   ],
   "source": [
    "sns.barplot (x = 'Movie Rating', y = top7_rating.index, data=top7_rating, hue = 'Total Votes', dodge = False);\n",
    "plt.title(\"Top 7 Movie by Rating\");"
   ]
  },
  {
   "cell_type": "code",
   "execution_count": 30,
   "id": "04170832",
   "metadata": {},
   "outputs": [
    {
     "data": {
      "image/png": "[encoded data removed]",
      "text/plain": [
       "<Figure size 432x288 with 1 Axes>"
      ]
     },
     "metadata": {
      "needs_background": "light"
     },
     "output_type": "display_data"
    }
   ],
   "source": [
    "sns.barplot (x = 'Movie Rating', y = top7_rating.index, data=top7_rating, hue = 'Total Votes', dodge = False);\n",
    "plt.legend(bbox_to_anchor = (1.05,1), loc=2);\n",
    "plt.title(\"Top 7 Movie by Rating\");"
   ]
  },
  {
   "cell_type": "markdown",
   "id": "ac9464bd",
   "metadata": {},
   "source": [
    "The graph above shows that the most popular movies result is different than the `top7_popularity` if we sorted it out by ranking. Therefore for the most popular movies, IMDB has their own measurement to determine the ranking. "
   ]
  },
  {
   "cell_type": "markdown",
   "id": "8aea26f8",
   "metadata": {},
   "source": [
    "### Conclusion\n",
    "\n",
    "1. There are no relationships between the parameters (Duration, Movie Rating, Total Votes, Metascore) and the popularity of the movie\n",
    "2. IMDB has its own matrix and calculation to determine the most popular movies\n",
    "3. Both argument is strengthened by the fact that if we sorted the movies by ratings then the most popular movies ranking result will be different (last graph)\n",
    "4. Top 7 most popular movies in 2021 are :\n",
    "```\n",
    "Don't Look Up\t\n",
    "Spider-Man: No Way Home\t\n",
    "The Matrix Resurrections\t\n",
    "Encanto\t\n",
    "The Book of Boba Fett\n",
    "1883\n",
    "The Wheel of Time\n",
    "```\n",
    "5. Despite having the highest numbers at every parameters, the popularity of \"Spider-Man : No Way Home\" is still below the \"Don't Look Up\" movie\n",
    "6. Despite having the lowest rating, the popularity of \"The Matrix Resurrections\" is still higher than the other four films that have much better ratings\n",
    "\n",
    "For further study purposes, we can explore more parameters such as gross value, genre, director, and etc"
   ]
  },
  {
   "cell_type": "markdown",
   "id": "3c389de3",
   "metadata": {},
   "source": [
    "`Special notes :` to save the data that has been scraped into excel file, please take a look at the code below"
   ]
  },
  {
   "cell_type": "code",
   "execution_count": 31,
   "id": "c31a06c3",
   "metadata": {},
   "outputs": [],
   "source": [
    "#save into excel data (xlsx)\n",
    "imdb.to_excel(\"IMDB Popular Movies in 2021.xlsx\")"
   ]
  }
 ],
 "metadata": {
  "kernelspec": {
   "display_name": "capstone-ws",
   "language": "python",
   "name": "capstone-ws"
  },
  "language_info": {
   "codemirror_mode": {
    "name": "ipython",
    "version": 3
   },
   "file_extension": ".py",
   "mimetype": "text/x-python",
   "name": "python",
   "nbconvert_exporter": "python",
   "pygments_lexer": "ipython3",
   "version": "3.8.12"
  }
 },
 "nbformat": 4,
 "nbformat_minor": 5
}
